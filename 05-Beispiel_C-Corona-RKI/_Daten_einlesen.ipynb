{
 "cells": [
  {
   "cell_type": "markdown",
   "metadata": {},
   "source": [
    "# RKI Corona Daten\n",
    "\n",
    "Link: https://npgeo-corona-npgeo-de.hub.arcgis.com/datasets/dd4580c810204019a7b8eb3e0b329dd6_0/data\n",
    "\n",
    "Herunterladen -> Tabelle  (Datei 173MB groß (Stand 01.02.2021))\n",
    "\n",
    "Link zum Datensatz: https://opendata.arcgis.com/datasets/dd4580c810204019a7b8eb3e0b329dd6_0.csv"
   ]
  },
  {
   "source": [
    "## Gesamtdaten einlesen"
   ],
   "cell_type": "markdown",
   "metadata": {}
  },
  {
   "cell_type": "code",
   "execution_count": null,
   "metadata": {},
   "outputs": [],
   "source": [
    "import pandas as pd\n",
    "\n",
    "link=\"https://opendata.arcgis.com/datasets/dd4580c810204019a7b8eb3e0b329dd6_0.csv\"\n",
    "#RKI_komplett = pd.read_csv(\"RKI_COVID19.csv\")\n",
    "RKI_komplett = pd.read_csv(link)\n",
    "\n",
    "RKI_komplett.head(5)"
   ]
  },
  {
   "source": [
    "## Deutschland rausfiltern"
   ],
   "cell_type": "markdown",
   "metadata": {}
  },
  {
   "cell_type": "code",
   "execution_count": null,
   "metadata": {
    "scrolled": true
   },
   "outputs": [],
   "source": [
    "RKI_Deutschland = RKI_komplett.groupby(['Meldedatum']).agg({'AnzahlFall': ['sum']}).reset_index()\n",
    "RKI_Deutschland['Meldedatum'] = pd.to_datetime(RKI_Deutschland['Meldedatum'],format='%Y/%m/%d')\n",
    "RKI_Deutschland.columns = ['Meldedatum','Neue Fallzahlen']\n",
    "RKI_Deutschland[\"Neue Fallzahlen\"] = RKI_Deutschland[\"Neue Fallzahlen\"].astype(int)\n",
    "RKI_Deutschland[\"Neue Fallzahlen Mittelwert (7 Tage)\"] = RKI_Deutschland[\"Neue Fallzahlen\"].rolling(7).mean().fillna(0)\n",
    "RKI_Deutschland[\"Neue Fallzahlen Mittelwert (7 Tage)\"] = RKI_Deutschland[\"Neue Fallzahlen Mittelwert (7 Tage)\"].astype(int)\n",
    "RKI_Deutschland[\"Faelle gesamt\"] = RKI_Deutschland[\"Neue Fallzahlen\"].cumsum(axis = 0) \n",
    "RKI_Deutschland.to_csv(\"RKI_Corona_Deutschland.csv\", index=False)\n",
    "\n",
    "RKI_Deutschland.head()"
   ]
  },
  {
   "source": [
    "## Bundesland rausfiltern"
   ],
   "cell_type": "markdown",
   "metadata": {}
  },
  {
   "cell_type": "code",
   "execution_count": null,
   "metadata": {},
   "outputs": [],
   "source": [
    "RKI_Bundesland = RKI_komplett.groupby(['Meldedatum','Bundesland']).agg({'AnzahlFall': ['sum']}).reset_index()\n",
    "RKI_Bundesland.columns=[\"Meldedatum\",\"Bundesland\",\"Neue Fallzahlen\"]\n",
    "RKI_Bundesland['Meldedatum'] = pd.to_datetime(RKI_Bundesland['Meldedatum'],format='%Y/%m/%d')\n",
    "RKI_Bundesland.to_csv(\"RKI_Corona_Bundeslaender.csv\", index=False)\n",
    "RKI_Bundesland.head()"
   ]
  },
  {
   "source": [
    "## Leipzig rausfiltern"
   ],
   "cell_type": "markdown",
   "metadata": {}
  },
  {
   "cell_type": "code",
   "execution_count": null,
   "metadata": {},
   "outputs": [],
   "source": [
    "Leipzig = RKI_komplett.loc[RKI_komplett[\"Landkreis\"] == \"SK Leipzig\"]\n",
    "Leipzig = Leipzig.groupby(['Meldedatum']).agg({'AnzahlFall': ['sum']}).reset_index()\n",
    "Leipzig['Meldedatum'] = pd.to_datetime(Leipzig['Meldedatum'],format='%Y/%m/%d')\n",
    "Leipzig.columns = ['Meldedatum','Neue Fallzahlen']\n",
    "Leipzig[\"Neue Fallzahlen Mittelwert (7 Tage)\"] = Leipzig[\"Neue Fallzahlen\"].rolling(7).mean().fillna(0)\n",
    "Leipzig[\"Neue Fallzahlen Mittelwert (7 Tage)\"] = Leipzig[\"Neue Fallzahlen Mittelwert (7 Tage)\"].astype(int)\n",
    "Leipzig[\"Neue Fallzahlen Summe (7 Tage)\"] = Leipzig[\"Neue Fallzahlen\"].rolling(7).sum().fillna(0)\n",
    "Leipzig[\"Neue Fallzahlen Summe (7 Tage)\"] = Leipzig[\"Neue Fallzahlen Summe (7 Tage)\"].astype(int)\n",
    "Leipzig[\"Faelle gesamt\"] = Leipzig[\"Neue Fallzahlen\"].cumsum(axis = 0) \n",
    "Einwohner = 605407  # Quelle: https://www.leipzig.de/news/news/leipzig-hat-jetzt-605407-einwohner/\n",
    "Leipzig[\"7 Tage Indizdenz\"] = Leipzig[\"Neue Fallzahlen Summe (7 Tage)\"]/Einwohner*100000\n",
    "Leipzig[\"7 Tage Indizdenz\"] = Leipzig[\"7 Tage Indizdenz\"].round(0)\n",
    "Leipzig.to_csv(\"RKI_Corona_Leipzig.csv\", index=False)\n",
    "Leipzig"
   ]
  }
 ],
 "metadata": {
  "kernelspec": {
   "display_name": "Python 3",
   "language": "python",
   "name": "python3"
  },
  "language_info": {
   "codemirror_mode": {
    "name": "ipython",
    "version": 3
   },
   "file_extension": ".py",
   "mimetype": "text/x-python",
   "name": "python",
   "nbconvert_exporter": "python",
   "pygments_lexer": "ipython3",
   "version": "3.8.5-final"
  }
 },
 "nbformat": 4,
 "nbformat_minor": 4
}
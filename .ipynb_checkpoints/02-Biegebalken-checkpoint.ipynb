{
 "cells": [
  {
   "cell_type": "markdown",
   "id": "50ed4c8d",
   "metadata": {},
   "source": [
    "# Berechnungen und erste grafische Darstellung am Beispiel von zwei verschiedenen Biegebalken"
   ]
  },
  {
   "cell_type": "markdown",
   "id": "6a4db604",
   "metadata": {},
   "source": [
    "## Beispiel 1: zweiseitig gelagerter Balken mit Linienlast\n",
    "\n",
    "**Aufgabe**: Berechnen Sie die maximale Durchbiegung"
   ]
  },
  {
   "cell_type": "markdown",
   "id": "2e53626d",
   "metadata": {},
   "source": [
    "![](images/Balkenbiegung1.png)\n",
    "\n",
    "- Länge: $L = 1000\\,\\mathrm{mm}$\n",
    "- Breite: $b = 30\\,\\mathrm{mm}$\n",
    "- Höhe: $h = 30\\,\\mathrm{mm}$\n",
    "- Linienlast: $q_0=1000\\,\\mathrm{N}$\n",
    "- E-Modul: $E=200000\\,\\mathrm{MPa}$"
   ]
  },
  {
   "cell_type": "code",
   "execution_count": null,
   "id": "4cf38fbc",
   "metadata": {},
   "outputs": [],
   "source": [
    "# Variablen\n",
    "# Beispiel1: zweiseitig gelagerter Balken mit Linienlast\n",
    "L = 1000.0 # mm\n",
    "b = 30.0 # mm\n",
    "h = 30.0 # mm\n",
    "q0 = 1000.0 # N\n",
    "E = 200000.0 # MPa -> N/mm^2"
   ]
  },
  {
   "cell_type": "markdown",
   "id": "041e3bd5",
   "metadata": {},
   "source": [
    "**Berechnung des Flächenträgheitsmoments**:\n",
    "\n",
    "$$I=\\frac{b\\,h^3}{12}$$"
   ]
  },
  {
   "cell_type": "code",
   "execution_count": null,
   "id": "8c113043",
   "metadata": {},
   "outputs": [],
   "source": [
    "I = \n",
    "print(I)"
   ]
  },
  {
   "cell_type": "markdown",
   "id": "0633cd4a",
   "metadata": {},
   "source": [
    "**Berechnung der maximalen Durchbiegung**\n",
    "\n",
    "$$ u_{max}=\\frac{5\\,q\\,L^4}{384\\,E\\,I} $$"
   ]
  },
  {
   "cell_type": "code",
   "execution_count": null,
   "id": "2ecda0bb",
   "metadata": {},
   "outputs": [],
   "source": [
    "umax = \n",
    "print(umax)"
   ]
  },
  {
   "cell_type": "markdown",
   "id": "0869f969",
   "metadata": {},
   "source": [
    "## Beispiel 2: einseitig eingespannter Balken mit Einzelkraft"
   ]
  },
  {
   "cell_type": "markdown",
   "id": "b2efe22b",
   "metadata": {},
   "source": [
    "**Aufgabe**: Berechnen Sie die maximale Durchbiegung\n",
    "\n",
    "![](images/Balkenbiegung2.png)\n",
    "\n",
    "\n",
    "- Länge: $L = 1000\\,\\mathrm{mm}$\n",
    "- Breite: $b = 30\\,\\mathrm{mm}$\n",
    "- Höhe: $h = 60\\,\\mathrm{mm}$  *Wert anders als im ersten Beispiel*\n",
    "- Kraft: $F=1000\\,\\mathrm{N}$ *neuer Parameter*\n",
    "- E-Modul: $E=200000\\,\\mathrm{MPa}$ *Wert anders als im ersten Beispiel*"
   ]
  },
  {
   "cell_type": "code",
   "execution_count": null,
   "id": "0a6a48f1",
   "metadata": {},
   "outputs": [],
   "source": [
    "# Variablen\n",
    "# Beispiel2: einseitig eingespannter Balken mit Einzelkraft\n",
    "L = 1000.0 # mm\n",
    "b = 30.0 # mm\n",
    "h = 60.0 # mm\n",
    "F = 1000.0 # N\n",
    "E = 70000.0 # MPa -> N/mm^2"
   ]
  },
  {
   "cell_type": "markdown",
   "id": "36a449b2",
   "metadata": {},
   "source": [
    "**Berechnung des Flächenträgheitsmoments**:\n",
    "\n",
    "$$I=\\frac{b\\,h^3}{12}$$"
   ]
  },
  {
   "cell_type": "code",
   "execution_count": null,
   "id": "5863808d",
   "metadata": {},
   "outputs": [],
   "source": [
    "I = \n",
    "print(I)"
   ]
  },
  {
   "cell_type": "markdown",
   "id": "241689cf",
   "metadata": {},
   "source": [
    "**Berechnung der maximalen Durchbiegung**\n",
    "\n",
    "$$ u_{max}=\\frac{F\\,L^3}{3\\,E\\,I} $$"
   ]
  },
  {
   "cell_type": "code",
   "execution_count": null,
   "id": "cb3909d4",
   "metadata": {},
   "outputs": [],
   "source": [
    "umax=\n",
    "print(umax)"
   ]
  },
  {
   "cell_type": "markdown",
   "id": "5bec2953",
   "metadata": {},
   "source": [
    "## Darstellung der Durchbiegung in Abhängigkeit der Länge\n",
    "\n",
    "**Aufgabe**: Stellen Sie die maximale Durchbiegung in Abhängigkeit der Länge für beide Beispiele dar"
   ]
  },
  {
   "cell_type": "markdown",
   "id": "5612cb18",
   "metadata": {},
   "source": [
    "### Beispiel 1: zweiseitig gelagerter Balken mit Linienlast"
   ]
  },
  {
   "cell_type": "code",
   "execution_count": null,
   "id": "ce129639",
   "metadata": {},
   "outputs": [],
   "source": [
    "# Variablen\n",
    "# Beispiel1: zweiseitig gelagerter Balken mit Linienlast\n",
    "L = 1000.0 # mm\n",
    "b = 30.0 # mm\n",
    "h1 = 30.0 # mm\n",
    "q0 = 1000.0 # N\n",
    "E1 = 200000.0 # MPa -> N/mm^2\n",
    "I1 = \n",
    "umax1 = \n",
    "print(umax1)"
   ]
  },
  {
   "cell_type": "markdown",
   "id": "7b69e4a3",
   "metadata": {},
   "source": [
    "Definition der Länge `L` als `np.array` (Liste aus Werten)"
   ]
  },
  {
   "cell_type": "code",
   "execution_count": null,
   "id": "0f4fa0f9",
   "metadata": {},
   "outputs": [],
   "source": [
    "import numpy as np\n",
    "L = np.array([0,250,500,750,1000]) # mm\n",
    "print(L)"
   ]
  },
  {
   "cell_type": "markdown",
   "id": "b3196d84",
   "metadata": {},
   "source": [
    "Das Ergebnis ist dann automatisch ebenfalls eine Liste"
   ]
  },
  {
   "cell_type": "code",
   "execution_count": null,
   "id": "414c66a6",
   "metadata": {},
   "outputs": [],
   "source": [
    "umax1 = \n",
    "print(umax1)"
   ]
  },
  {
   "cell_type": "markdown",
   "id": "5a44556c",
   "metadata": {},
   "source": [
    "mit `import matplotlib.pyplot as plt` wird das `pyplot` Modul der `matplotlib` Bibliothek importiert mit dem wir die ersten Plots erstellen"
   ]
  },
  {
   "cell_type": "code",
   "execution_count": null,
   "id": "4e9ae82e",
   "metadata": {},
   "outputs": [],
   "source": [
    "import matplotlib.pyplot as plt\n",
    "plt.plot(L,umax1);\n",
    "plt.xlabel(\"Länge [mm]\");\n",
    "plt.ylabel(\"maximale Verschiebung [mm]\");"
   ]
  },
  {
   "cell_type": "markdown",
   "id": "27648b1c",
   "metadata": {},
   "source": [
    "Um die Werte zusätzlich als Punkte einzublenden kann:\n",
    "\n",
    "`plt.plot(marker=\"s\",ms=10)`\n",
    "- marker: \"s\" = square\n",
    "- ms = markersize (Größe der Punkte)\n",
    "\n",
    "[Übersicht über alle Stile (matplotlib Cheat Sheet)](https://github.com/matplotlib/cheatsheets/blob/master/cheatsheets.pdf)\n"
   ]
  },
  {
   "cell_type": "code",
   "execution_count": null,
   "id": "741bc9a8",
   "metadata": {},
   "outputs": [],
   "source": [
    "plt.plot(L,umax1, marker=\"s\",ms=10);\n",
    "plt.xlabel(\"Länge [mm]\");\n",
    "plt.ylabel(\"maximale Verschiebung [mm]\");"
   ]
  },
  {
   "cell_type": "markdown",
   "id": "98e8b985",
   "metadata": {},
   "source": [
    "Um den Verlauf zu glätten sind mehr Punkte einzugeben, dafür ist `np.linspace()` sehr praktisch (wieder ohne die Punkte)"
   ]
  },
  {
   "cell_type": "code",
   "execution_count": null,
   "id": "1eb03644",
   "metadata": {},
   "outputs": [],
   "source": [
    "L = np.linspace(0,1000,20) # mm\n",
    "print(L)"
   ]
  },
  {
   "cell_type": "code",
   "execution_count": null,
   "id": "ecbfd3f2",
   "metadata": {},
   "outputs": [],
   "source": [
    "L = np.linspace(0,1000,100) # mm\n",
    "umax1 = \n",
    "plt.plot(L,umax1);\n",
    "plt.xlabel(\"Länge [mm]\");\n",
    "plt.ylabel(\"maximale Verschiebung [mm]\");"
   ]
  },
  {
   "cell_type": "markdown",
   "id": "d57fbfab",
   "metadata": {},
   "source": [
    "### Beispiel 2: einseitig eingespannter Balken mit Einzelkraft"
   ]
  },
  {
   "cell_type": "code",
   "execution_count": null,
   "id": "c7600e24",
   "metadata": {},
   "outputs": [],
   "source": [
    "# Variablen\n",
    "# Beispiel2: einseitig eingespannter Balken mit Einzelkraft\n",
    "L = np.linspace(0,1000,100) # mm\n",
    "b = 30.0 # mm\n",
    "h2 = 60.0 # mm\n",
    "F = 1000.0 # N\n",
    "E2 = 70000.0 # MPa -> N/mm^2\n",
    "I2 = \n",
    "umax2="
   ]
  },
  {
   "cell_type": "code",
   "execution_count": null,
   "id": "e0498763",
   "metadata": {},
   "outputs": [],
   "source": [
    "plt.plot(L,umax2);\n",
    "plt.xlabel(\"Länge [mm]\");\n",
    "plt.ylabel(\"maximale Verschiebung [mm]\");"
   ]
  },
  {
   "cell_type": "markdown",
   "id": "ca104fd8",
   "metadata": {},
   "source": [
    "### Beide Beispiele zusammen\n",
    "\n",
    "1. Bezeichnung über `label`=\n",
    "2. Legende anzeigen mit `plt.legend()`"
   ]
  },
  {
   "cell_type": "code",
   "execution_count": null,
   "id": "8ad793bc",
   "metadata": {},
   "outputs": [],
   "source": [
    "plt.plot(L,umax1,label=\"Beispiel 1\");\n",
    "plt.plot(L,umax2,label=\"Beispiel 2\");\n",
    "plt.legend();\n",
    "plt.xlabel(\"Länge [mm]\");\n",
    "plt.ylabel(\"maximale Verschiebung [mm]\");"
   ]
  },
  {
   "cell_type": "markdown",
   "id": "2b04d54b",
   "metadata": {},
   "source": [
    "### stylistische Anpassungen\n",
    "\n",
    "**Stil zurücksetzen**: <br>\n",
    "wichtig um den Stil nicht ungewollt auf die nächsten Plots zu übertragen <br>\n",
    "- `plt.style.use('default')`\n",
    "\n",
    "**Schrift**: <br>\n",
    "muss vor `plt.plot()` kommen <br>\n",
    "- Schriftgröße: `plt.rcParams.update({'font.size': 20})`\n",
    "- Schriftart: `plt.rcParams['font.family'] = 'STIXGeneral'` <br>STIXGeneral = LaTeX Schrift\n",
    "\n",
    "**Bildgröße**: <br>\n",
    "- für alle Texte `plt.figure(figsize=(8,5))`\n",
    "muss vor `plt.plot()` kommen <br>\n",
    "Größe in inces (Default: 6,4) <br>\n",
    "- individuell z.B. in Title, Legende, Achsenbeschriftung `fontsize=18`\n",
    "\n",
    "**Gitter**: <br>\n",
    "- `plt.grid()`\n",
    "\n",
    "**Titel**: <br>\n",
    "- `plt.title(\"Beispieltitel\")`\n",
    "\n",
    "**Linien**: <br>\n",
    "in `plt.plot()`<br>\n",
    "[Übersicht über alle Stile (matplotlib Cheat Sheet)](https://github.com/matplotlib/cheatsheets/blob/master/cheatsheets.pdf)\n",
    "- Linienfarbe: `plt.plot(color=\"red\")`\n",
    "- Liniendicke: `plt.plot(lw=2)` (lw = linewidth)\n",
    "- Linienstil: `plt.plot(ls=\"--\")` (ls = linestyle) <br>\n"
   ]
  },
  {
   "cell_type": "code",
   "execution_count": null,
   "id": "a274990b",
   "metadata": {},
   "outputs": [],
   "source": [
    "#stil zurücksetzen\n",
    "plt.style.use('default')\n",
    "\n",
    "plt.figure(figsize=(8,5))\n",
    "plt.rcParams['font.family'] = 'STIXGeneral'\n",
    "plt.rcParams['font.size'] = 18;\n",
    "plt.plot(L,umax1,label=\"Beispiel 1\",color=\"red\", lw=2, ls=\"-\");\n",
    "plt.plot(L,umax2,label=\"Beispiel 2\",color=\"blue\", lw=2, ls=\"--\");\n",
    "plt.legend(fontsize=16);\n",
    "plt.grid();\n",
    "plt.title(\"Vergleich beider Modelle\", fontsize=16)\n",
    "plt.xlabel(\"Länge [mm]\");\n",
    "plt.ylabel(\"maximale Verschiebung [mm]\");"
   ]
  },
  {
   "cell_type": "markdown",
   "id": "4b8e1ac6",
   "metadata": {},
   "source": [
    "wenn wir den Stil jetzt nicht zurücksetzen `plt.style.use('default')` wird dieser automatisch in dem nächsten plot verwendet.\n",
    "\n",
    "Nun stellen wir nur den vorderen Bereich der Länge von  `L=0` bis `L=200mm` dar: <br>\n",
    "\n",
    "`plt.xlim(0,200)`\n",
    "\n",
    "für y-Achse analog:\n",
    "\n",
    "`plt.ylim(0,0.1)`\n"
   ]
  },
  {
   "cell_type": "code",
   "execution_count": null,
   "id": "e5b81348",
   "metadata": {},
   "outputs": [],
   "source": [
    "plt.xlim(0,200);\n",
    "plt.ylim(0,0.1);\n",
    "plt.plot(L,umax1,label=\"Beispiel 1\",color=\"red\", lw=2, ls=\"-\");\n",
    "plt.plot(L,umax2,label=\"Beispiel 2\",color=\"blue\", lw=2, ls=\"--\");\n",
    "plt.xlabel(\"Länge [mm]\");\n",
    "plt.ylabel(\"maximale Verschiebung [mm]\");\n",
    "plt.grid();\n",
    "plt.legend(fontsize=16);"
   ]
  },
  {
   "cell_type": "markdown",
   "id": "aa6c7ec5",
   "metadata": {},
   "source": [
    "### Datei speichern\n",
    "\n",
    "mit `plt.savefig('Dateiname.png', bbox_inches='tight', dpi=150)`\n",
    "\n",
    "- `bbox_inches='tight'` sorgt dafür das die Beschriftungen immer mit im Bild gespeichert werden (können sonst manchmal abgeschnitten sein)\n",
    "- `dpi` regelt die Größe des Pixelbildes (dots per inch)"
   ]
  },
  {
   "cell_type": "code",
   "execution_count": null,
   "id": "3f0fb0e6",
   "metadata": {},
   "outputs": [],
   "source": [
    "plt.xlim(0,200);\n",
    "plt.ylim(0,0.1);\n",
    "plt.plot(L,umax1,label=\"Beispiel 1\",color=\"red\", lw=2, ls=\"-\");\n",
    "plt.plot(L,umax2,label=\"Beispiel 2\",color=\"blue\", lw=2, ls=\"--\");\n",
    "plt.xlabel(\"Länge [mm]\");\n",
    "plt.ylabel(\"maximale Verschiebung [mm]\");\n",
    "plt.grid();\n",
    "plt.legend(fontsize=16);\n",
    "plt.savefig('Uebung1_detail.png', bbox_inches='tight', dpi=150)"
   ]
  },
  {
   "cell_type": "code",
   "execution_count": null,
   "id": "55b2fc0c",
   "metadata": {},
   "outputs": [],
   "source": [
    "plt.plot(L,umax1,label=\"Beispiel 1\",color=\"red\", lw=2, ls=\"-\");\n",
    "plt.plot(L,umax2,label=\"Beispiel 2\",color=\"blue\", lw=2, ls=\"--\");\n",
    "plt.xlabel(\"Länge [mm]\");\n",
    "plt.ylabel(\"maximale Verschiebung [mm]\");\n",
    "plt.grid();\n",
    "plt.legend(fontsize=16);\n",
    "plt.savefig('Uebung1_alles.png', bbox_inches='tight', dpi=150)"
   ]
  }
 ],
 "metadata": {
  "kernelspec": {
   "display_name": "Python 3",
   "language": "python",
   "name": "python3"
  },
  "language_info": {
   "codemirror_mode": {
    "name": "ipython",
    "version": 3
   },
   "file_extension": ".py",
   "mimetype": "text/x-python",
   "name": "python",
   "nbconvert_exporter": "python",
   "pygments_lexer": "ipython3",
   "version": "3.8.5"
  }
 },
 "nbformat": 4,
 "nbformat_minor": 5
}

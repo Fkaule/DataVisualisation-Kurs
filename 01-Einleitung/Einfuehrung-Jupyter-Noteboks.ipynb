{
 "cells": [
  {
   "cell_type": "markdown",
   "metadata": {},
   "source": [
    "# Einführung in Jupyter Notebooks"
   ]
  },
  {
   "cell_type": "markdown",
   "metadata": {},
   "source": [
    "## Ausführen von Zellen und deren Reihenfolge\n",
    "\n",
    "Klicken Sie in die darunterliegende Zeile und drücken Sie `Shift` + `Enter` um diese auszuführen"
   ]
  },
  {
   "cell_type": "code",
   "execution_count": null,
   "metadata": {},
   "outputs": [],
   "source": [
    "1+1"
   ]
  },
  {
   "cell_type": "markdown",
   "metadata": {},
   "source": [
    "Sie haben nun eine Zelle ausgeführt. Sie können auch den `Pfeil` oben benutzen **um eine Zelle auszuführen**\n",
    "\n",
    "Neben der Zelle steht in eckigen Klammern die Nummer die angibt in welcher Reihenfolge die Zellen ausgeführt wurden. Die Reihenfolge ist wichtig, weil diese bestimmt wie die Daten in den Speicher gelesen werden.\n",
    "\n",
    "Führen Sie dazu die drei nachfolgenden Zeilen aus:"
   ]
  },
  {
   "cell_type": "code",
   "execution_count": null,
   "metadata": {},
   "outputs": [],
   "source": [
    "i = 1"
   ]
  },
  {
   "cell_type": "code",
   "execution_count": null,
   "metadata": {},
   "outputs": [],
   "source": [
    "i = 2"
   ]
  },
  {
   "cell_type": "code",
   "execution_count": null,
   "metadata": {},
   "outputs": [],
   "source": [
    "print(i)"
   ]
  },
  {
   "cell_type": "markdown",
   "metadata": {},
   "source": [
    "Da die Definition mit i=2 zuletzt gegeben wurde, wird nun durch print(i) auch der letzte Wert ausgegeben"
   ]
  },
  {
   "cell_type": "markdown",
   "metadata": {},
   "source": [
    "## neue Zelle hinzufügen"
   ]
  },
  {
   "cell_type": "markdown",
   "metadata": {},
   "source": [
    "Drücken Sie das `+` Symbol um eine neue Zeile hinzuzufügen"
   ]
  },
  {
   "cell_type": "markdown",
   "metadata": {},
   "source": [
    "klicken Sie links neben den Zeileinput (da wo In []: steht) so das diese `blau` markiert ist und drücken Sie dann `a` (insert **`a`**bove = fügt **darüber** eine Zeile ein)"
   ]
  },
  {
   "cell_type": "markdown",
   "metadata": {},
   "source": [
    "klicken Sie links neben den Zeileinput (da wo In []: steht) so das diese `blau` markiert ist und drücken Sie dann `b` (insert **`b`**elow = fügt **darunter** eine Zeile ein)"
   ]
  },
  {
   "cell_type": "markdown",
   "metadata": {},
   "source": [
    "## Zelle löschen\n",
    "\n",
    "Durch das markieren der Zelle und das drücken von `d` + `d` wird die Zelle gelöscht"
   ]
  },
  {
   "cell_type": "markdown",
   "metadata": {},
   "source": [
    "Lösch mich !"
   ]
  },
  {
   "cell_type": "markdown",
   "metadata": {},
   "source": [
    "## Textfeld formatieren (Markdown Syntax)\n",
    "\n",
    "[Jupyter Notebook Markdown Syntax](https://sourceforge.net/p/jupiter/wiki/markdown_syntax/)\n",
    "\n",
    "klicken Sie links neben den Zeileinput (da wo In []: steht) so das diese `blau` markiert ist und drücken Sie dann `m`. Alternativ können Sie nach dem markieren der Zelle auch oben (wo `Code` steht) den Typ `Markdown` auswählen.\n",
    "\n",
    "Sie haben nun eine Zelle erstellt in der Sie den `Markdown` Syntax verwenden können:\n",
    "\n",
    "Durch das Ausführen der Zelle (`Shift` + `Enter`) wird der Text dann angezeigt"
   ]
  },
  {
   "cell_type": "markdown",
   "metadata": {},
   "source": [
    "**Überschriften**: (alternativ können Sie die markierte Zelle durch drücken der Tasten `1` , `2` oder `3` eine Überschriftsebene erstellen):\n",
    "\n",
    "`# Überschrift 1. Test` \n",
    "\n",
    "`## Überschrift 1. Test`\n",
    "\n",
    "`### Überschrift 1. Test`\n"
   ]
  },
  {
   "cell_type": "markdown",
   "metadata": {},
   "source": []
  },
  {
   "cell_type": "markdown",
   "metadata": {},
   "source": [
    "**Textformatierung**: \n",
    "\n",
    "`* Kursiv *` * Kursiv * \n",
    "\n",
    "`** Fett **` ** Fett ** \n",
    "\n",
    "`*** Fett+Kursiv ***` *** Fett+Kursiv *** \n",
    "\n"
   ]
  },
  {
   "cell_type": "markdown",
   "metadata": {},
   "source": []
  },
  {
   "cell_type": "markdown",
   "metadata": {},
   "source": [
    "**Nummerierung + Listen**: \n",
    "\n",
    "`- Liste `\n",
    "\n",
    "`- Liste `\n",
    "\n",
    "- Liste\n",
    "- Liste\n",
    "\n",
    "\n",
    "`1. Nummerierung `\n",
    "\n",
    "`2. Nummerierung`\n",
    "\n",
    "1. Nummerierung\n",
    "2. Nummerierung\n",
    "\n",
    "`[ ] Checkbox` [ ] Checkbox\n",
    "\n",
    "`[x] Checkbox` [x] Checkbox\n",
    "\n"
   ]
  },
  {
   "cell_type": "markdown",
   "metadata": {},
   "source": []
  },
  {
   "cell_type": "markdown",
   "metadata": {},
   "source": [
    "**Tabellen**\n",
    "```\n",
    "First Header  | Second Header`\n",
    "  ------------- | -------------`\n",
    "  Content Cell  | Content Cell`\n",
    "  Content Cell  | Content Cell`\n",
    "```\n",
    "\n",
    "\n",
    "  First Header  | Second Header\n",
    "  ------------- | -------------\n",
    "  Content Cell  | Content Cell\n",
    "  Content Cell  | Content Cell"
   ]
  },
  {
   "cell_type": "markdown",
   "metadata": {},
   "source": []
  },
  {
   "cell_type": "markdown",
   "metadata": {},
   "source": [
    "** Bilder ** \n",
    "\n",
    "`![Alternativtext](https://jupyter.org/assets/nav_logo.svg)`\n",
    "\n",
    "![Alternativtext](https://jupyter.org/assets/nav_logo.svg)\n",
    "\n"
   ]
  },
  {
   "cell_type": "markdown",
   "metadata": {},
   "source": []
  },
  {
   "cell_type": "markdown",
   "metadata": {},
   "source": [
    "** Links **\n",
    "\n",
    "`[HTWK Leipzig](http://www.htwk-leipzig.de)`\n",
    "\n",
    "[HTWK Leipzig](http://www.htwk-leipzig.de)\n",
    "\n",
    "\n",
    "```\n",
    "Das ist ein Beispieltext mit Referenzen[Ref1][1] . Das ist ein Beispieltext mit Referenzen [Ref1][2].\n",
    "Die Links können dann darunter stehen\n",
    "\n",
    "   [1]: http://www.jupyter.org\n",
    "   [2]: http://www.htwk-leipzig.de\n",
    "```\n",
    "\n",
    "Das ist ein Beispieltext mit Referenzen[Ref1][1] . Das ist ein Beispieltext mit Referenzen [Ref1][2].\n",
    "Die Links können dann darunter stehen\n",
    "\n",
    "   [1]: http://www.jupyter.org\n",
    "   [2]: http://www.htwk-leipzig.de\n"
   ]
  },
  {
   "cell_type": "markdown",
   "metadata": {},
   "source": []
  },
  {
   "cell_type": "markdown",
   "metadata": {},
   "source": [
    "**Code**: \n",
    "\n",
    "```\n",
    "Ein Codeelement mit dem Einschluss von Anführungszeichen: also so `Code` dargestellt werden\n",
    "\n",
    "```\n",
    "\n",
    "Ein `Codeelement` der Rest ist Text\n",
    "\n",
    "\n",
    "```\n",
    "Mehrere Codezeilen werden durch drei Anführungszeichen zu Beginn und drei zum Ende definiert\n",
    "```\n",
    "\n",
    " \n",
    "\n"
   ]
  },
  {
   "cell_type": "code",
   "execution_count": 2,
   "metadata": {},
   "outputs": [
    {
     "output_type": "execute_result",
     "data": {
      "text/plain": [
       "<IPython.core.display.HTML object>"
      ],
      "text/html": "<link href='http://fonts.googleapis.com/css?family=Fenix' rel='stylesheet' type='text/css'>\n<link href='http://fonts.googleapis.com/css?family=Alegreya+Sans:100,300,400,500,700,800,900,100italic,300italic,400italic,500italic,700italic,800italic,900italic' rel='stylesheet' type='text/css'>\n<link href='http://fonts.googleapis.com/css?family=Source+Code+Pro:300,400' rel='stylesheet' type='text/css'>\n<style>\n    @font-face {\n        font-family: \"Computer Modern\";\n        src: url('http://mirrors.ctan.org/fonts/cm-unicode/fonts/otf/cmunss.otf');\n    }\n    div.cell{\n        width:800px;\n        margin-left:16% !important;\n        margin-right:auto;\n    }\n    h1 {\n        font-family: 'Alegreya Sans', sans-serif;\n    }\n    h2 {\n        font-family: 'Fenix', serif;\n    }\n    h3{\n\t\tfont-family: 'Fenix', serif;\n        margin-top:12px;\n        margin-bottom: 3px;\n       }\n\th4{\n\t\tfont-family: 'Fenix', serif;\n       }\n    h5 {\n        font-family: 'Alegreya Sans', sans-serif;\n    }\t   \n    div.text_cell_render{\n        font-family: 'Alegreya Sans',Computer Modern, \"Helvetica Neue\", Arial, Helvetica, Geneva, sans-serif;\n        line-height: 135%;\n        font-size: 120%;\n        width:600px;\n        margin-left:auto;\n        margin-right:auto;\n    }\n    .CodeMirror{\n            font-family: \"Source Code Pro\";\n\t\t\tfont-size: 90%;\n    }\n/*    .prompt{\n        display: None;\n    }*/\n    .text_cell_render h1 {\n        font-weight: 200;\n        font-size: 50pt;\n\t\tline-height: 100%;\n        color:#CD2305;\n        margin-bottom: 0.5em;\n        margin-top: 0.5em;\n        display: block;\n    }\t\n    .text_cell_render h5 {\n        font-weight: 300;\n        font-size: 16pt;\n        color: #CD2305;\n        font-style: italic;\n        margin-bottom: .5em;\n        margin-top: 0.5em;\n        display: block;\n    }\n    \n    .warning{\n        color: rgb( 240, 20, 20 )\n        }  \n</style>\n<script>\n    MathJax.Hub.Config({\n                        TeX: {\n                           extensions: [\"AMSmath.js\"]\n                           },\n                tex2jax: {\n                    inlineMath: [ ['$','$'], [\"\\\\(\",\"\\\\)\"] ],\n                    displayMath: [ ['$$','$$'], [\"\\\\[\",\"\\\\]\"] ]\n                },\n                displayAlign: 'center', // Change this to 'center' to center equations.\n                \"HTML-CSS\": {\n                    styles: {'.MathJax_Display': {\"margin\": 4}}\n                }\n        });\n</script>"
     },
     "metadata": {},
     "execution_count": 2
    }
   ],
   "source": [
    "from IPython.core.display import HTML\n",
    "def css_styling():\n",
    "    styles = open(\"../styles/custom.css\", \"r\").read()\n",
    "    return HTML(styles)\n",
    "css_styling()"
   ]
  },
  {
   "cell_type": "markdown",
   "metadata": {},
   "source": []
  }
 ],
 "metadata": {
  "kernelspec": {
   "display_name": "Python 3",
   "language": "python",
   "name": "python3"
  },
  "language_info": {
   "codemirror_mode": {
    "name": "ipython",
    "version": 3
   },
   "file_extension": ".py",
   "mimetype": "text/x-python",
   "name": "python",
   "nbconvert_exporter": "python",
   "pygments_lexer": "ipython3",
   "version": "3.8.5-final"
  }
 },
 "nbformat": 4,
 "nbformat_minor": 2
}
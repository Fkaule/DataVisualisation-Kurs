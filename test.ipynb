{
 "cells": [
  {
   "cell_type": "markdown",
   "metadata": {},
   "source": [
    "# Überschrift"
   ]
  },
  {
   "cell_type": "markdown",
   "metadata": {},
   "source": [
    "Lorem ipsum dolor sit amet, consectetur adipiscing elit. Ut quis lectus tellus. Vivamus auctor eros a lorem rhoncus imperdiet. Proin in diam porttitor, blandit ipsum ac, auctor diam. Vivamus rhoncus est at rutrum fringilla. Nunc id suscipit quam. Orci varius natoque penatibus et magnis dis parturient montes, nascetur ridiculus mus. Aliquam mattis posuere felis. Nulla vitae tempus augue.\n",
    "\n",
    "Aliquam ornare, dolor quis lobortis semper, ligula urna rhoncus nisi, id interdum nulla turpis vel massa. Sed sem ipsum, commodo eget eleifend sed, vulputate ut tellus. Pellentesque rutrum sollicitudin dictum. Donec molestie turpis et augue viverra fermentum. Maecenas interdum urna a auctor molestie. Donec porttitor odio id ante mollis congue. Curabitur at magna magna. Aliquam quis arcu placerat, accumsan est eu, ultricies turpis. Nunc nisi urna, vulputate ac dapibus a, consequat sollicitudin lacus. Maecenas erat diam, dapibus in risus commodo, lobortis hendrerit sem. In hac habitasse platea dictumst. Quisque at pulvinar sem. Morbi laoreet quis metus quis vehicula.\n",
    "\n",
    "Integer eget vulputate est, vitae tristique est. Nulla facilisi. Phasellus ut luctus ligula, at ultrices dolor. Morbi sit amet velit orci. Donec rhoncus dui odio, id blandit metus auctor sit amet. Nulla cursus consectetur cursus. Nunc semper vulputate urna, in blandit ligula volutpat sit amet. Maecenas a fringilla felis.\n",
    "\n",
    "Etiam varius urna vel nunc commodo tristique. Cras fringilla dolor sem, in efficitur libero varius eu. Ut vel nisi ac metus dapibus accumsan. Ut tincidunt, dolor in scelerisque fermentum, nisl mi gravida turpis, eget aliquam augue purus nec risus. Nullam sit amet sem suscipit, gravida arcu id, pharetra quam. In ultricies eu leo eget hendrerit. Pellentesque luctus turpis et ante consectetur, a sollicitudin est tristique. Nulla facilisi. Morbi at ex est. Praesent et gravida nisl, id lobortis nisl.\n",
    "\n",
    "Donec et bibendum nisi. Fusce ullamcorper vulputate justo quis gravida. Duis interdum ornare porttitor. Nulla nec fermentum eros. Nulla facilisi. Sed pretium arcu id sodales euismod. Etiam tempor est sit amet odio tempus sollicitudin. Aliquam rutrum purus ut ligula aliquet ultricies."
   ]
  },
  {
   "cell_type": "code",
   "execution_count": 5,
   "metadata": {
    "collapsed": false,
    "jupyter": {
     "outputs_hidden": false
    }
   },
   "outputs": [
    {
     "data": {
      "text/html": [
       "<link href='http://fonts.googleapis.com/css?family=Fenix' rel='stylesheet' type='text/css'>\n",
       "<link href='http://fonts.googleapis.com/css?family=Alegreya+Sans:100,300,400,500,700,800,900,100italic,300italic,400italic,500italic,700italic,800italic,900italic' rel='stylesheet' type='text/css'>\n",
       "<link href='http://fonts.googleapis.com/css?family=Source+Code+Pro:300,400' rel='stylesheet' type='text/css'>\n",
       "<style>\n",
       "    @font-face {\n",
       "        font-family: \"Computer Modern\";\n",
       "        src: url('http://mirrors.ctan.org/fonts/cm-unicode/fonts/otf/cmunss.otf');\n",
       "    }\n",
       "    div.cell{\n",
       "        width:800px;\n",
       "        margin-left:16% !important;\n",
       "        margin-right:auto;\n",
       "    }\n",
       "    h1 {\n",
       "        font-family: 'Alegreya Sans', sans-serif;\n",
       "    }\n",
       "    h2 {\n",
       "        font-family: 'Fenix', serif;\n",
       "    }\n",
       "    h3{\n",
       "\t\tfont-family: 'Fenix', serif;\n",
       "        margin-top:12px;\n",
       "        margin-bottom: 3px;\n",
       "       }\n",
       "\th4{\n",
       "\t\tfont-family: 'Fenix', serif;\n",
       "       }\n",
       "    h5 {\n",
       "        font-family: 'Alegreya Sans', sans-serif;\n",
       "    }\t   \n",
       "    div.text_cell_render{\n",
       "        font-family: 'Alegreya Sans',Computer Modern, \"Helvetica Neue\", Arial, Helvetica, Geneva, sans-serif;\n",
       "        line-height: 135%;\n",
       "        font-size: 120%;\n",
       "        width:600px;\n",
       "        margin-left:auto;\n",
       "        margin-right:auto;\n",
       "    }\n",
       "    .CodeMirror{\n",
       "            font-family: \"Source Code Pro\";\n",
       "\t\t\tfont-size: 90%;\n",
       "    }\n",
       "/*    .prompt{\n",
       "        display: None;\n",
       "    }*/\n",
       "    .text_cell_render h1 {\n",
       "        font-weight: 200;\n",
       "        font-size: 50pt;\n",
       "\t\tline-height: 100%;\n",
       "        color:#CD2305;\n",
       "        margin-bottom: 0.5em;\n",
       "        margin-top: 0.5em;\n",
       "        display: block;\n",
       "    }\t\n",
       "    .text_cell_render h5 {\n",
       "        font-weight: 300;\n",
       "        font-size: 16pt;\n",
       "        color: #CD2305;\n",
       "        font-style: italic;\n",
       "        margin-bottom: .5em;\n",
       "        margin-top: 0.5em;\n",
       "        display: block;\n",
       "    }\n",
       "    \n",
       "    .warning{\n",
       "        color: rgb( 240, 20, 20 )\n",
       "        }  \n",
       "</style>\n",
       "<script>\n",
       "    MathJax.Hub.Config({\n",
       "                        TeX: {\n",
       "                           extensions: [\"AMSmath.js\"]\n",
       "                           },\n",
       "                tex2jax: {\n",
       "                    inlineMath: [ ['$','$'], [\"\\\\(\",\"\\\\)\"] ],\n",
       "                    displayMath: [ ['$$','$$'], [\"\\\\[\",\"\\\\]\"] ]\n",
       "                },\n",
       "                displayAlign: 'center', // Change this to 'center' to center equations.\n",
       "                \"HTML-CSS\": {\n",
       "                    styles: {'.MathJax_Display': {\"margin\": 4}}\n",
       "                }\n",
       "        });\n",
       "</script>"
      ],
      "text/plain": [
       "<IPython.core.display.HTML object>"
      ]
     },
     "execution_count": 5,
     "metadata": {},
     "output_type": "execute_result"
    }
   ],
   "source": [
    "from IPython.core.display import HTML\n",
    "def css_styling():\n",
    "    styles = open(\"../styles/custom.css\", \"r\").read()\n",
    "    return HTML(styles)\n",
    "css_styling()"
   ]
  },
  {
   "cell_type": "code",
   "execution_count": null,
   "metadata": {},
   "outputs": [],
   "source": []
  }
 ],
 "metadata": {
  "kernelspec": {
   "display_name": "Python 3",
   "language": "python",
   "name": "python3"
  },
  "language_info": {
   "codemirror_mode": {
    "name": "ipython",
    "version": 3
   },
   "file_extension": ".py",
   "mimetype": "text/x-python",
   "name": "python",
   "nbconvert_exporter": "python",
   "pygments_lexer": "ipython3",
   "version": "3.8.5"
  }
 },
 "nbformat": 4,
 "nbformat_minor": 4
}
